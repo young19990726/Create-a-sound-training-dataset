{
 "cells": [
  {
   "cell_type": "code",
   "execution_count": null,
   "id": "12f53b41",
   "metadata": {},
   "outputs": [],
   "source": [
    "'''\n",
    "!pip install pytube\n",
    "!pip install spleeter\n",
    "!pip install ffmpy\n",
    "!pip install ffmpeg-python\n",
    "!pip install ffprobe\n",
    "!pip install librosa\n",
    "!pip install soundfile\n",
    "'''"
   ]
  },
  {
   "cell_type": "markdown",
   "id": "87563421",
   "metadata": {},
   "source": [
    "## Import required packages"
   ]
  },
  {
   "cell_type": "code",
   "execution_count": null,
   "id": "90f155c7",
   "metadata": {},
   "outputs": [],
   "source": [
    "from pytube import YouTube\n",
    "from IPython.display import Audio\n",
    "from slicer import Slicer\n",
    "import ffmpy\n",
    "import librosa    # read audio files.\n",
    "import soundfile  # write audio files."
   ]
  },
  {
   "cell_type": "markdown",
   "id": "4394760f",
   "metadata": {},
   "source": [
    "## Download YouTube Music"
   ]
  },
  {
   "cell_type": "code",
   "execution_count": null,
   "id": "1de5fd08",
   "metadata": {},
   "outputs": [],
   "source": [
    "# jay chou\n",
    "music_path = ['https://www.youtube.com/watch?v=2kdYSeoHChg',\n",
    "              'https://www.youtube.com/watch?v=COhiu3c7Sgc',\n",
    "              'https://www.youtube.com/watch?v=zqKoXPHhmsM',\n",
    "              'https://www.youtube.com/watch?v=eS2T9IiOYbc',\n",
    "              'https://www.youtube.com/watch?v=-gJzlOJ0Zoo',\n",
    "              'https://www.youtube.com/watch?v=v489sYYjtHI',\n",
    "              'https://www.youtube.com/watch?v=yfn8sE9obWU',\n",
    "              'https://www.youtube.com/watch?v=-u4sPnpaFEA',\n",
    "              'https://www.youtube.com/watch?v=miBGaUagOz8',\n",
    "              'https://www.youtube.com/watch?v=UBySINroNkw']"
   ]
  },
  {
   "cell_type": "code",
   "execution_count": null,
   "id": "b8ae0e41",
   "metadata": {},
   "outputs": [],
   "source": [
    "for i in range(len(music_path)):\n",
    "    try:\n",
    "        yt = YouTube(music_path[i])\n",
    "        yt.streams.filter().get_audio_only().download(filename = f'train_all_{i}.wav')\n",
    "    except(KeyError):\n",
    "        \n",
    "        try:\n",
    "            yt = YouTube(music_path[i])\n",
    "            yt.streams.filter().get_audio_only().download(filename = f'train_all_{i}.wav')\n",
    "        except(KeyError):\n",
    "            print(music_path[i])"
   ]
  },
  {
   "cell_type": "markdown",
   "id": "e25c90bb",
   "metadata": {},
   "source": [
    "## Capture vocals"
   ]
  },
  {
   "cell_type": "code",
   "execution_count": null,
   "id": "7fd2d1b3",
   "metadata": {},
   "outputs": [],
   "source": [
    "!spleeter separate train_all_1.wav -p spleeter:2stems -o voice_train_data"
   ]
  },
  {
   "cell_type": "code",
   "execution_count": null,
   "id": "54a9ab07",
   "metadata": {},
   "outputs": [],
   "source": [
    "!spleeter separate train_all_2.wav -p spleeter:2stems -o voice_train_data"
   ]
  },
  {
   "cell_type": "code",
   "execution_count": null,
   "id": "eafdd8a4",
   "metadata": {},
   "outputs": [],
   "source": [
    "!spleeter separate train_all_3.wav -p spleeter:2stems -o voice_train_data"
   ]
  },
  {
   "cell_type": "code",
   "execution_count": null,
   "id": "c6db5714",
   "metadata": {},
   "outputs": [],
   "source": [
    "!spleeter separate train_all_4.wav -p spleeter:2stems -o voice_train_data"
   ]
  },
  {
   "cell_type": "code",
   "execution_count": null,
   "id": "f6723a7c",
   "metadata": {},
   "outputs": [],
   "source": [
    "!spleeter separate train_all_5.wav -p spleeter:2stems -o voice_train_data"
   ]
  },
  {
   "cell_type": "code",
   "execution_count": null,
   "id": "7bcf46d5",
   "metadata": {},
   "outputs": [],
   "source": [
    "!spleeter separate train_all_6.wav -p spleeter:2stems -o voice_train_data"
   ]
  },
  {
   "cell_type": "code",
   "execution_count": null,
   "id": "aefa3e07",
   "metadata": {},
   "outputs": [],
   "source": [
    "!spleeter separate train_all_7.wav -p spleeter:2stems -o voice_train_data"
   ]
  },
  {
   "cell_type": "code",
   "execution_count": null,
   "id": "3530bd39",
   "metadata": {},
   "outputs": [],
   "source": [
    "!spleeter separate train_all_8.wav -p spleeter:2stems -o voice_train_data"
   ]
  },
  {
   "cell_type": "code",
   "execution_count": null,
   "id": "bac4fa4a",
   "metadata": {},
   "outputs": [],
   "source": [
    "!spleeter separate train_all_9.wav -p spleeter:2stems -o voice_train_data"
   ]
  },
  {
   "cell_type": "code",
   "execution_count": null,
   "id": "4ae2681c",
   "metadata": {},
   "outputs": [],
   "source": [
    "!spleeter separate train_all_10.wav -p spleeter:2stems -o voice_train_data"
   ]
  },
  {
   "cell_type": "markdown",
   "id": "2743e3b4",
   "metadata": {},
   "source": [
    "## Vocal segmentation"
   ]
  },
  {
   "cell_type": "code",
   "execution_count": null,
   "id": "8c6fa5bc",
   "metadata": {},
   "outputs": [],
   "source": [
    "vocal_path = ['./voice_train_data/train_all_1/vocals.wav',\n",
    "              './voice_train_data/train_all_2/vocals.wav',\n",
    "              './voice_train_data/train_all_3/vocals.wav',\n",
    "              './voice_train_data/train_all_4/vocals.wav',\n",
    "              './voice_train_data/train_all_5/vocals.wav',\n",
    "              './voice_train_data/train_all_6/vocals.wav',\n",
    "              './voice_train_data/train_all_7/vocals.wav',\n",
    "              './voice_train_data/train_all_8/vocals.wav',\n",
    "              './voice_train_data/train_all_9/vocals.wav',\n",
    "              './voice_train_data/train_all_10/vocals.wav']"
   ]
  },
  {
   "cell_type": "code",
   "execution_count": null,
   "id": "83386a48",
   "metadata": {},
   "outputs": [],
   "source": [
    "### Captured vocal\n",
    "#Audio('./voice_train_data/train_all_1/vocals.wav')\n",
    "\n",
    "### Captured soundtrack\n",
    "#Audio('./voice_train_data/train_all_1/accompaniment.wav')"
   ]
  },
  {
   "cell_type": "code",
   "execution_count": null,
   "id": "0c61af41",
   "metadata": {},
   "outputs": [],
   "source": [
    "for i in range(len(vocal_path)):\n",
    "    audio, sr = librosa.load(vocal_path[i], sr = None)\n",
    "    slicer = Slicer(sr = sr, db_threshold = -40, min_length = 8000, win_l = 300, win_s = 20)\n",
    "    chunks = slicer.slice(audio)\n",
    "    for j, chunk in enumerate(chunks):\n",
    "        soundfile.write(f'./voice_train_data/segmentation/seg_{i}_{j}.wav', chunk, sr)"
   ]
  }
 ],
 "metadata": {
  "kernelspec": {
   "display_name": "Python [conda env:tensorflow] *",
   "language": "python",
   "name": "conda-env-tensorflow-py"
  },
  "language_info": {
   "codemirror_mode": {
    "name": "ipython",
    "version": 3
   },
   "file_extension": ".py",
   "mimetype": "text/x-python",
   "name": "python",
   "nbconvert_exporter": "python",
   "pygments_lexer": "ipython3",
   "version": "3.6.7"
  }
 },
 "nbformat": 4,
 "nbformat_minor": 5
}
